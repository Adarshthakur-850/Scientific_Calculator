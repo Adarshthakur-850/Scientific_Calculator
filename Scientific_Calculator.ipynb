from tkinter import *
import tkinter.messagebox
import math

# Main Window
root = Tk()
root.title("Scientific Calculator by Amritesh & Nawlesh")
root.config(bg='#E3E3E3')
root.geometry('473x580+100+100')

# Entry Field
entryField = Entry(root, font=('arial', 20), fg='black', bg='#F2F2F2',
                   bd=10, relief=SUNKEN, width=30)
entryField.grid(row=0, column=0, columnspan=5)

# Button Texts
button_text_list = [
    "π", "2π", "%", "DEL", "AC",
    "deg", "sinθ", "cosθ", "tanθ", chr(247),
    "rad", "7", "8", "9", "x",
    "√", "4", "5", "6", "-",
    "log", "1", "2", "3", "+",
    "x!", "e", "0", ".", "="
]

# Functionality
def click(value):
    ex = entryField.get()
    answer = ''

    try:
        if value == 'AC':
            entryField.delete(0, END)

        elif value == 'DEL':
            entryField.delete(len(ex) - 1, END)

        elif value == '√':
            answer = math.sqrt(eval(ex))

        elif value == 'π':
            answer = math.pi

        elif value == '2π':
            answer = 2 * math.pi

        elif value == 'e':
            answer = math.e

        elif value == 'sinθ':
            answer = math.sin(math.radians(eval(ex)))

        elif value == 'cosθ':
            answer = math.cos(math.radians(eval(ex)))

        elif value == 'tanθ':
            answer = math.tan(math.radians(eval(ex)))

        elif value == 'log':
            answer = math.log10(eval(ex))

        elif value == 'deg':
            answer = math.degrees(eval(ex))

        elif value == 'rad':
            answer = math.radians(eval(ex))

        elif value == 'x!':
            answer = math.factorial(eval(ex))

        elif value == chr(247):
            entryField.insert(END, "/")
            return

        elif value == 'x':
            entryField.insert(END, "*")
            return

        elif value in ('+', '-', '.', '%'):
            entryField.insert(END, value)
            return

        elif value == '=':
            answer = eval(ex)

        else:
            entryField.insert(END, value)
            return

        entryField.delete(0, END)
        entryField.insert(0, answer)

    except Exception:
        tkinter.messagebox.showerror("Error", "Invalid Input")

# Button Placement
row_value = 1
col_value = 0

for i in button_text_list:
    button = Button(root, width=5, height=2, bd=2, relief=SUNKEN,
                    text=i, bg='#F2F2F2', font=('arial', 20, 'italic'),
                    fg='black', activeforeground='white',
                    command=lambda btn=i: click(btn))
    button.grid(row=row_value, column=col_value, pady=1)
    col_value += 1
    if col_value > 4:
        col_value = 0
        row_value += 1

# Run App
root.mainloop()
